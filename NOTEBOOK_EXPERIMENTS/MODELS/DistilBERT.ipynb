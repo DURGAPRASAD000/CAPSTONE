{
  "cells": [
    {
      "cell_type": "markdown",
      "metadata": {
        "nteract": {
          "transient": {
            "deleting": false
          }
        }
      },
      "source": [
        "#### **DISTILBERT**\n",
        "DistilBERT is a smaller, faster, and lighter version of the BERT (Bidirectional Encoder Representations from Transformers) model, designed to provide similar performance with reduced computational requirements. It was introduced by Hugging Face as a way to make BERT's powerful natural language processing capabilities more accessible in resource-constrained environments.\n",
        "\n",
        "##### **Key Features of DistilBERT:**\n",
        "\n",
        "Smaller Size: 40% fewer parameters than BERT, with 97% of its performance.\n",
        "Faster Speed: 60% faster inference, ideal for real-time tasks.\n",
        "Knowledge Distillation: Trained to mimic BERT’s behavior using soft labels.\n",
        "Applications: Sentiment analysis, text classification, question answering, and more.\n",
        "Efficiency: Lightweight, memory-efficient, and suitable for deployment on edge devices.\n",
        "Open-Source: Available via Hugging Face Transformers."
      ]
    },
    {
      "cell_type": "code",
      "execution_count": 2,
      "metadata": {
        "gather": {
          "logged": 1738677546270
        },
        "jupyter": {
          "outputs_hidden": false,
          "source_hidden": false
        },
        "nteract": {
          "transient": {
            "deleting": false
          }
        }
      },
      "outputs": [
        {
          "data": {
            "text/html": [
              "<div>\n",
              "<style scoped>\n",
              "    .dataframe tbody tr th:only-of-type {\n",
              "        vertical-align: middle;\n",
              "    }\n",
              "\n",
              "    .dataframe tbody tr th {\n",
              "        vertical-align: top;\n",
              "    }\n",
              "\n",
              "    .dataframe thead th {\n",
              "        text-align: right;\n",
              "    }\n",
              "</style>\n",
              "<table border=\"1\" class=\"dataframe\">\n",
              "  <thead>\n",
              "    <tr style=\"text-align: right;\">\n",
              "      <th></th>\n",
              "      <th>Sl no</th>\n",
              "      <th>Name</th>\n",
              "      <th>Profile ID</th>\n",
              "      <th>Comment</th>\n",
              "      <th>Comment_Tokens</th>\n",
              "      <th>comment_length</th>\n",
              "      <th>word_count</th>\n",
              "      <th>sentiment_score</th>\n",
              "      <th>sentiment_class</th>\n",
              "    </tr>\n",
              "  </thead>\n",
              "  <tbody>\n",
              "    <tr>\n",
              "      <th>0</th>\n",
              "      <td>1</td>\n",
              "      <td>scotty2jatty</td>\n",
              "      <td>398274122</td>\n",
              "      <td>you better do dirty</td>\n",
              "      <td>better,dirty</td>\n",
              "      <td>19</td>\n",
              "      <td>4</td>\n",
              "      <td>0</td>\n",
              "      <td>neutral</td>\n",
              "    </tr>\n",
              "    <tr>\n",
              "      <th>1</th>\n",
              "      <td>2</td>\n",
              "      <td>angelasanders975</td>\n",
              "      <td>65963290409</td>\n",
              "      <td>thats soooooooooo right</td>\n",
              "      <td>thats,soooooooooo,right</td>\n",
              "      <td>23</td>\n",
              "      <td>3</td>\n",
              "      <td>0</td>\n",
              "      <td>neutral</td>\n",
              "    </tr>\n",
              "    <tr>\n",
              "      <th>2</th>\n",
              "      <td>3</td>\n",
              "      <td>myleslewis_24</td>\n",
              "      <td>11687291106</td>\n",
              "      <td>bro i want that shirt</td>\n",
              "      <td>bro,want,shirt</td>\n",
              "      <td>21</td>\n",
              "      <td>5</td>\n",
              "      <td>1</td>\n",
              "      <td>positive</td>\n",
              "    </tr>\n",
              "    <tr>\n",
              "      <th>3</th>\n",
              "      <td>4</td>\n",
              "      <td>miladheydarpour1369</td>\n",
              "      <td>7529960718</td>\n",
              "      <td>good</td>\n",
              "      <td>good</td>\n",
              "      <td>4</td>\n",
              "      <td>1</td>\n",
              "      <td>3</td>\n",
              "      <td>positive</td>\n",
              "    </tr>\n",
              "    <tr>\n",
              "      <th>4</th>\n",
              "      <td>5</td>\n",
              "      <td>matthew_williams224</td>\n",
              "      <td>25240207448</td>\n",
              "      <td>bro he only needs to beat jakes ass</td>\n",
              "      <td>bro,needs,beat,jakes,ass</td>\n",
              "      <td>35</td>\n",
              "      <td>8</td>\n",
              "      <td>-7</td>\n",
              "      <td>negative</td>\n",
              "    </tr>\n",
              "  </tbody>\n",
              "</table>\n",
              "</div>"
            ],
            "text/plain": [
              "   Sl no                 Name   Profile ID  \\\n",
              "0      1         scotty2jatty    398274122   \n",
              "1      2     angelasanders975  65963290409   \n",
              "2      3        myleslewis_24  11687291106   \n",
              "3      4  miladheydarpour1369   7529960718   \n",
              "4      5  matthew_williams224  25240207448   \n",
              "\n",
              "                               Comment            Comment_Tokens  \\\n",
              "0                  you better do dirty              better,dirty   \n",
              "1              thats soooooooooo right   thats,soooooooooo,right   \n",
              "2                bro i want that shirt            bro,want,shirt   \n",
              "3                                 good                      good   \n",
              "4  bro he only needs to beat jakes ass  bro,needs,beat,jakes,ass   \n",
              "\n",
              "   comment_length  word_count  sentiment_score sentiment_class  \n",
              "0              19           4                0         neutral  \n",
              "1              23           3                0         neutral  \n",
              "2              21           5                1        positive  \n",
              "3               4           1                3        positive  \n",
              "4              35           8               -7        negative  "
            ]
          },
          "execution_count": 2,
          "metadata": {},
          "output_type": "execute_result"
        }
      ],
      "source": [
        "import pandas as pd\n",
        "df = pd.read_csv(\"final.csv\", low_memory=False)\n",
        "df.head()"
      ]
    },
    {
      "cell_type": "code",
      "execution_count": 3,
      "metadata": {
        "gather": {
          "logged": 1738677548389
        },
        "jupyter": {
          "outputs_hidden": false,
          "source_hidden": false
        },
        "nteract": {
          "transient": {
            "deleting": false
          }
        }
      },
      "outputs": [
        {
          "data": {
            "text/html": [
              "<div>\n",
              "<style scoped>\n",
              "    .dataframe tbody tr th:only-of-type {\n",
              "        vertical-align: middle;\n",
              "    }\n",
              "\n",
              "    .dataframe tbody tr th {\n",
              "        vertical-align: top;\n",
              "    }\n",
              "\n",
              "    .dataframe thead th {\n",
              "        text-align: right;\n",
              "    }\n",
              "</style>\n",
              "<table border=\"1\" class=\"dataframe\">\n",
              "  <thead>\n",
              "    <tr style=\"text-align: right;\">\n",
              "      <th></th>\n",
              "      <th>Sl no</th>\n",
              "      <th>Name</th>\n",
              "      <th>Profile ID</th>\n",
              "      <th>Comment</th>\n",
              "      <th>Comment_Tokens</th>\n",
              "      <th>comment_length</th>\n",
              "      <th>word_count</th>\n",
              "      <th>sentiment_score</th>\n",
              "      <th>sentiment_class</th>\n",
              "    </tr>\n",
              "  </thead>\n",
              "  <tbody>\n",
              "    <tr>\n",
              "      <th>0</th>\n",
              "      <td>1</td>\n",
              "      <td>scotty2jatty</td>\n",
              "      <td>398274122</td>\n",
              "      <td>you better do dirty</td>\n",
              "      <td>better,dirty</td>\n",
              "      <td>19</td>\n",
              "      <td>4</td>\n",
              "      <td>0</td>\n",
              "      <td>neutral</td>\n",
              "    </tr>\n",
              "    <tr>\n",
              "      <th>1</th>\n",
              "      <td>2</td>\n",
              "      <td>angelasanders975</td>\n",
              "      <td>65963290409</td>\n",
              "      <td>thats soooooooooo right</td>\n",
              "      <td>thats,soooooooooo,right</td>\n",
              "      <td>23</td>\n",
              "      <td>3</td>\n",
              "      <td>0</td>\n",
              "      <td>neutral</td>\n",
              "    </tr>\n",
              "    <tr>\n",
              "      <th>2</th>\n",
              "      <td>3</td>\n",
              "      <td>myleslewis_24</td>\n",
              "      <td>11687291106</td>\n",
              "      <td>bro i want that shirt</td>\n",
              "      <td>bro,want,shirt</td>\n",
              "      <td>21</td>\n",
              "      <td>5</td>\n",
              "      <td>1</td>\n",
              "      <td>positive</td>\n",
              "    </tr>\n",
              "    <tr>\n",
              "      <th>3</th>\n",
              "      <td>4</td>\n",
              "      <td>miladheydarpour1369</td>\n",
              "      <td>7529960718</td>\n",
              "      <td>good</td>\n",
              "      <td>good</td>\n",
              "      <td>4</td>\n",
              "      <td>1</td>\n",
              "      <td>3</td>\n",
              "      <td>positive</td>\n",
              "    </tr>\n",
              "    <tr>\n",
              "      <th>4</th>\n",
              "      <td>5</td>\n",
              "      <td>matthew_williams224</td>\n",
              "      <td>25240207448</td>\n",
              "      <td>bro he only needs to beat jakes ass</td>\n",
              "      <td>bro,needs,beat,jakes,ass</td>\n",
              "      <td>35</td>\n",
              "      <td>8</td>\n",
              "      <td>-7</td>\n",
              "      <td>negative</td>\n",
              "    </tr>\n",
              "  </tbody>\n",
              "</table>\n",
              "</div>"
            ],
            "text/plain": [
              "   Sl no                 Name   Profile ID  \\\n",
              "0      1         scotty2jatty    398274122   \n",
              "1      2     angelasanders975  65963290409   \n",
              "2      3        myleslewis_24  11687291106   \n",
              "3      4  miladheydarpour1369   7529960718   \n",
              "4      5  matthew_williams224  25240207448   \n",
              "\n",
              "                               Comment            Comment_Tokens  \\\n",
              "0                  you better do dirty              better,dirty   \n",
              "1              thats soooooooooo right   thats,soooooooooo,right   \n",
              "2                bro i want that shirt            bro,want,shirt   \n",
              "3                                 good                      good   \n",
              "4  bro he only needs to beat jakes ass  bro,needs,beat,jakes,ass   \n",
              "\n",
              "   comment_length  word_count  sentiment_score sentiment_class  \n",
              "0              19           4                0         neutral  \n",
              "1              23           3                0         neutral  \n",
              "2              21           5                1        positive  \n",
              "3               4           1                3        positive  \n",
              "4              35           8               -7        negative  "
            ]
          },
          "execution_count": 3,
          "metadata": {},
          "output_type": "execute_result"
        }
      ],
      "source": [
        "df.head()"
      ]
    },
    {
      "cell_type": "code",
      "execution_count": 4,
      "metadata": {
        "gather": {
          "logged": 1738677550497
        },
        "jupyter": {
          "outputs_hidden": false,
          "source_hidden": false
        },
        "nteract": {
          "transient": {
            "deleting": false
          }
        }
      },
      "outputs": [
        {
          "data": {
            "text/plain": [
              "Sl no              0\n",
              "Name               0\n",
              "Profile ID         0\n",
              "Comment            0\n",
              "Comment_Tokens     8\n",
              "comment_length     0\n",
              "word_count         0\n",
              "sentiment_score    0\n",
              "sentiment_class    0\n",
              "dtype: int64"
            ]
          },
          "execution_count": 4,
          "metadata": {},
          "output_type": "execute_result"
        }
      ],
      "source": [
        "df.isnull().sum()"
      ]
    },
    {
      "cell_type": "code",
      "execution_count": 5,
      "metadata": {
        "gather": {
          "logged": 1738677554284
        },
        "jupyter": {
          "outputs_hidden": false,
          "source_hidden": false
        },
        "nteract": {
          "transient": {
            "deleting": false
          }
        }
      },
      "outputs": [
        {
          "data": {
            "text/html": [
              "<div>\n",
              "<style scoped>\n",
              "    .dataframe tbody tr th:only-of-type {\n",
              "        vertical-align: middle;\n",
              "    }\n",
              "\n",
              "    .dataframe tbody tr th {\n",
              "        vertical-align: top;\n",
              "    }\n",
              "\n",
              "    .dataframe thead th {\n",
              "        text-align: right;\n",
              "    }\n",
              "</style>\n",
              "<table border=\"1\" class=\"dataframe\">\n",
              "  <thead>\n",
              "    <tr style=\"text-align: right;\">\n",
              "      <th></th>\n",
              "      <th>Sl no</th>\n",
              "      <th>Name</th>\n",
              "      <th>Profile ID</th>\n",
              "      <th>Comment</th>\n",
              "      <th>Comment_Tokens</th>\n",
              "      <th>comment_length</th>\n",
              "      <th>word_count</th>\n",
              "      <th>sentiment_score</th>\n",
              "      <th>sentiment_class</th>\n",
              "    </tr>\n",
              "  </thead>\n",
              "  <tbody>\n",
              "    <tr>\n",
              "      <th>0</th>\n",
              "      <td>1</td>\n",
              "      <td>scotty2jatty</td>\n",
              "      <td>398274122</td>\n",
              "      <td>you better do dirty</td>\n",
              "      <td>better,dirty</td>\n",
              "      <td>19</td>\n",
              "      <td>4</td>\n",
              "      <td>0</td>\n",
              "      <td>neutral</td>\n",
              "    </tr>\n",
              "    <tr>\n",
              "      <th>1</th>\n",
              "      <td>2</td>\n",
              "      <td>angelasanders975</td>\n",
              "      <td>65963290409</td>\n",
              "      <td>thats soooooooooo right</td>\n",
              "      <td>thats,soooooooooo,right</td>\n",
              "      <td>23</td>\n",
              "      <td>3</td>\n",
              "      <td>0</td>\n",
              "      <td>neutral</td>\n",
              "    </tr>\n",
              "    <tr>\n",
              "      <th>2</th>\n",
              "      <td>3</td>\n",
              "      <td>myleslewis_24</td>\n",
              "      <td>11687291106</td>\n",
              "      <td>bro i want that shirt</td>\n",
              "      <td>bro,want,shirt</td>\n",
              "      <td>21</td>\n",
              "      <td>5</td>\n",
              "      <td>1</td>\n",
              "      <td>positive</td>\n",
              "    </tr>\n",
              "    <tr>\n",
              "      <th>3</th>\n",
              "      <td>4</td>\n",
              "      <td>miladheydarpour1369</td>\n",
              "      <td>7529960718</td>\n",
              "      <td>good</td>\n",
              "      <td>good</td>\n",
              "      <td>4</td>\n",
              "      <td>1</td>\n",
              "      <td>3</td>\n",
              "      <td>positive</td>\n",
              "    </tr>\n",
              "    <tr>\n",
              "      <th>4</th>\n",
              "      <td>5</td>\n",
              "      <td>matthew_williams224</td>\n",
              "      <td>25240207448</td>\n",
              "      <td>bro he only needs to beat jakes ass</td>\n",
              "      <td>bro,needs,beat,jakes,ass</td>\n",
              "      <td>35</td>\n",
              "      <td>8</td>\n",
              "      <td>-7</td>\n",
              "      <td>negative</td>\n",
              "    </tr>\n",
              "    <tr>\n",
              "      <th>5</th>\n",
              "      <td>6</td>\n",
              "      <td>dunnett.kay</td>\n",
              "      <td>1131369548</td>\n",
              "      <td>good</td>\n",
              "      <td>good</td>\n",
              "      <td>4</td>\n",
              "      <td>1</td>\n",
              "      <td>3</td>\n",
              "      <td>positive</td>\n",
              "    </tr>\n",
              "    <tr>\n",
              "      <th>6</th>\n",
              "      <td>7</td>\n",
              "      <td>vremyatherapper</td>\n",
              "      <td>3178599909</td>\n",
              "      <td>on mike tko</td>\n",
              "      <td>mike,tko</td>\n",
              "      <td>11</td>\n",
              "      <td>3</td>\n",
              "      <td>0</td>\n",
              "      <td>neutral</td>\n",
              "    </tr>\n",
              "    <tr>\n",
              "      <th>7</th>\n",
              "      <td>8</td>\n",
              "      <td>pkkw777</td>\n",
              "      <td>6329500566</td>\n",
              "      <td>the tshirt though</td>\n",
              "      <td>tshirt,though</td>\n",
              "      <td>17</td>\n",
              "      <td>3</td>\n",
              "      <td>0</td>\n",
              "      <td>neutral</td>\n",
              "    </tr>\n",
              "    <tr>\n",
              "      <th>8</th>\n",
              "      <td>9</td>\n",
              "      <td>schnopp77</td>\n",
              "      <td>5894239800</td>\n",
              "      <td>yeah boy tysons gonna get shit done the goat</td>\n",
              "      <td>yeah,boy,tysons,gon,na,get,shit,done,goat</td>\n",
              "      <td>44</td>\n",
              "      <td>9</td>\n",
              "      <td>-3</td>\n",
              "      <td>negative</td>\n",
              "    </tr>\n",
              "    <tr>\n",
              "      <th>9</th>\n",
              "      <td>10</td>\n",
              "      <td>kryztaf0</td>\n",
              "      <td>49921246899</td>\n",
              "      <td>please win mike</td>\n",
              "      <td>please,win,mike</td>\n",
              "      <td>15</td>\n",
              "      <td>3</td>\n",
              "      <td>5</td>\n",
              "      <td>positive</td>\n",
              "    </tr>\n",
              "    <tr>\n",
              "      <th>10</th>\n",
              "      <td>11</td>\n",
              "      <td>lujackson_0</td>\n",
              "      <td>905460692</td>\n",
              "      <td>i want this tshirt</td>\n",
              "      <td>want,tshirt</td>\n",
              "      <td>18</td>\n",
              "      <td>4</td>\n",
              "      <td>1</td>\n",
              "      <td>positive</td>\n",
              "    </tr>\n",
              "    <tr>\n",
              "      <th>11</th>\n",
              "      <td>12</td>\n",
              "      <td>iiithomaspeterson</td>\n",
              "      <td>6998861755</td>\n",
              "      <td>love that shirt</td>\n",
              "      <td>love,shirt</td>\n",
              "      <td>15</td>\n",
              "      <td>3</td>\n",
              "      <td>3</td>\n",
              "      <td>positive</td>\n",
              "    </tr>\n",
              "    <tr>\n",
              "      <th>12</th>\n",
              "      <td>13</td>\n",
              "      <td>dope_omoakin1</td>\n",
              "      <td>1045751006</td>\n",
              "      <td>good</td>\n",
              "      <td>good</td>\n",
              "      <td>4</td>\n",
              "      <td>1</td>\n",
              "      <td>3</td>\n",
              "      <td>positive</td>\n",
              "    </tr>\n",
              "    <tr>\n",
              "      <th>13</th>\n",
              "      <td>14</td>\n",
              "      <td>wizard.066</td>\n",
              "      <td>65933700990</td>\n",
              "      <td>good</td>\n",
              "      <td>good</td>\n",
              "      <td>4</td>\n",
              "      <td>1</td>\n",
              "      <td>3</td>\n",
              "      <td>positive</td>\n",
              "    </tr>\n",
              "    <tr>\n",
              "      <th>14</th>\n",
              "      <td>15</td>\n",
              "      <td>algernonveritas</td>\n",
              "      <td>211378962</td>\n",
              "      <td>i cant wait to see it</td>\n",
              "      <td>cant,wait,see</td>\n",
              "      <td>21</td>\n",
              "      <td>6</td>\n",
              "      <td>0</td>\n",
              "      <td>neutral</td>\n",
              "    </tr>\n",
              "  </tbody>\n",
              "</table>\n",
              "</div>"
            ],
            "text/plain": [
              "    Sl no                 Name   Profile ID  \\\n",
              "0       1         scotty2jatty    398274122   \n",
              "1       2     angelasanders975  65963290409   \n",
              "2       3        myleslewis_24  11687291106   \n",
              "3       4  miladheydarpour1369   7529960718   \n",
              "4       5  matthew_williams224  25240207448   \n",
              "5       6          dunnett.kay   1131369548   \n",
              "6       7      vremyatherapper   3178599909   \n",
              "7       8              pkkw777   6329500566   \n",
              "8       9            schnopp77   5894239800   \n",
              "9      10             kryztaf0  49921246899   \n",
              "10     11          lujackson_0    905460692   \n",
              "11     12    iiithomaspeterson   6998861755   \n",
              "12     13        dope_omoakin1   1045751006   \n",
              "13     14           wizard.066  65933700990   \n",
              "14     15      algernonveritas    211378962   \n",
              "\n",
              "                                         Comment  \\\n",
              "0                            you better do dirty   \n",
              "1                        thats soooooooooo right   \n",
              "2                          bro i want that shirt   \n",
              "3                                           good   \n",
              "4            bro he only needs to beat jakes ass   \n",
              "5                                           good   \n",
              "6                                    on mike tko   \n",
              "7                              the tshirt though   \n",
              "8   yeah boy tysons gonna get shit done the goat   \n",
              "9                                please win mike   \n",
              "10                            i want this tshirt   \n",
              "11                               love that shirt   \n",
              "12                                          good   \n",
              "13                                          good   \n",
              "14                         i cant wait to see it   \n",
              "\n",
              "                               Comment_Tokens  comment_length  word_count  \\\n",
              "0                                better,dirty              19           4   \n",
              "1                     thats,soooooooooo,right              23           3   \n",
              "2                              bro,want,shirt              21           5   \n",
              "3                                        good               4           1   \n",
              "4                    bro,needs,beat,jakes,ass              35           8   \n",
              "5                                        good               4           1   \n",
              "6                                    mike,tko              11           3   \n",
              "7                               tshirt,though              17           3   \n",
              "8   yeah,boy,tysons,gon,na,get,shit,done,goat              44           9   \n",
              "9                             please,win,mike              15           3   \n",
              "10                                want,tshirt              18           4   \n",
              "11                                 love,shirt              15           3   \n",
              "12                                       good               4           1   \n",
              "13                                       good               4           1   \n",
              "14                              cant,wait,see              21           6   \n",
              "\n",
              "    sentiment_score sentiment_class  \n",
              "0                 0         neutral  \n",
              "1                 0         neutral  \n",
              "2                 1        positive  \n",
              "3                 3        positive  \n",
              "4                -7        negative  \n",
              "5                 3        positive  \n",
              "6                 0         neutral  \n",
              "7                 0         neutral  \n",
              "8                -3        negative  \n",
              "9                 5        positive  \n",
              "10                1        positive  \n",
              "11                3        positive  \n",
              "12                3        positive  \n",
              "13                3        positive  \n",
              "14                0         neutral  "
            ]
          },
          "execution_count": 5,
          "metadata": {},
          "output_type": "execute_result"
        }
      ],
      "source": [
        "df.head(15)"
      ]
    },
    {
      "cell_type": "code",
      "execution_count": 6,
      "metadata": {
        "gather": {
          "logged": 1738677558053
        },
        "jupyter": {
          "outputs_hidden": false,
          "source_hidden": false
        },
        "nteract": {
          "transient": {
            "deleting": false
          }
        }
      },
      "outputs": [
        {
          "name": "stdout",
          "output_type": "stream",
          "text": [
            "<class 'pandas.core.frame.DataFrame'>\n",
            "RangeIndex: 5089 entries, 0 to 5088\n",
            "Data columns (total 9 columns):\n",
            " #   Column           Non-Null Count  Dtype \n",
            "---  ------           --------------  ----- \n",
            " 0   Sl no            5089 non-null   int64 \n",
            " 1   Name             5089 non-null   object\n",
            " 2   Profile ID       5089 non-null   int64 \n",
            " 3   Comment          5089 non-null   object\n",
            " 4   Comment_Tokens   5081 non-null   object\n",
            " 5   comment_length   5089 non-null   int64 \n",
            " 6   word_count       5089 non-null   int64 \n",
            " 7   sentiment_score  5089 non-null   int64 \n",
            " 8   sentiment_class  5089 non-null   object\n",
            "dtypes: int64(5), object(4)\n",
            "memory usage: 357.9+ KB\n"
          ]
        }
      ],
      "source": [
        "df.info()"
      ]
    },
    {
      "cell_type": "code",
      "execution_count": 7,
      "metadata": {
        "gather": {
          "logged": 1738677560341
        }
      },
      "outputs": [
        {
          "name": "stdout",
          "output_type": "stream",
          "text": [
            "   sentiment_label sentiment_class\n",
            "0                1         neutral\n",
            "1                1         neutral\n",
            "2                1        positive\n",
            "3                1        positive\n",
            "4                0        negative\n"
          ]
        }
      ],
      "source": [
        "# Define a mapping dictionary for sentiment classes\n",
        "sentiment_mapping = {\n",
        "    'neutral': 1,\n",
        "    'positive': 1,\n",
        "    'negative': 0\n",
        "}\n",
        "\n",
        "# Apply the mapping to the 'sentiment_class' column to create a numerical 'sentiment_label'\n",
        "df['sentiment_label'] = df['sentiment_class'].map(sentiment_mapping)\n",
        "\n",
        "# Display the first few rows to confirm\n",
        "print(df[['sentiment_label', 'sentiment_class']].head())"
      ]
    },
    {
      "cell_type": "code",
      "execution_count": 9,
      "metadata": {
        "gather": {
          "logged": 1738677596886
        }
      },
      "outputs": [],
      "source": [
        "df['sentiment_class'] = df['sentiment_class'].replace('neutral', 'positive')"
      ]
    },
    {
      "cell_type": "code",
      "execution_count": 10,
      "metadata": {
        "gather": {
          "logged": 1738677599518
        },
        "jupyter": {
          "outputs_hidden": false,
          "source_hidden": false
        },
        "nteract": {
          "transient": {
            "deleting": false
          }
        }
      },
      "outputs": [
        {
          "data": {
            "text/html": [
              "<div>\n",
              "<style scoped>\n",
              "    .dataframe tbody tr th:only-of-type {\n",
              "        vertical-align: middle;\n",
              "    }\n",
              "\n",
              "    .dataframe tbody tr th {\n",
              "        vertical-align: top;\n",
              "    }\n",
              "\n",
              "    .dataframe thead th {\n",
              "        text-align: right;\n",
              "    }\n",
              "</style>\n",
              "<table border=\"1\" class=\"dataframe\">\n",
              "  <thead>\n",
              "    <tr style=\"text-align: right;\">\n",
              "      <th></th>\n",
              "      <th>Comment</th>\n",
              "      <th>sentiment_score</th>\n",
              "      <th>sentiment_label</th>\n",
              "      <th>sentiment_class</th>\n",
              "    </tr>\n",
              "  </thead>\n",
              "  <tbody>\n",
              "    <tr>\n",
              "      <th>0</th>\n",
              "      <td>you better do dirty</td>\n",
              "      <td>0</td>\n",
              "      <td>1</td>\n",
              "      <td>positive</td>\n",
              "    </tr>\n",
              "    <tr>\n",
              "      <th>1</th>\n",
              "      <td>thats soooooooooo right</td>\n",
              "      <td>0</td>\n",
              "      <td>1</td>\n",
              "      <td>positive</td>\n",
              "    </tr>\n",
              "    <tr>\n",
              "      <th>2</th>\n",
              "      <td>bro i want that shirt</td>\n",
              "      <td>1</td>\n",
              "      <td>1</td>\n",
              "      <td>positive</td>\n",
              "    </tr>\n",
              "    <tr>\n",
              "      <th>3</th>\n",
              "      <td>good</td>\n",
              "      <td>3</td>\n",
              "      <td>1</td>\n",
              "      <td>positive</td>\n",
              "    </tr>\n",
              "    <tr>\n",
              "      <th>4</th>\n",
              "      <td>bro he only needs to beat jakes ass</td>\n",
              "      <td>-7</td>\n",
              "      <td>0</td>\n",
              "      <td>negative</td>\n",
              "    </tr>\n",
              "  </tbody>\n",
              "</table>\n",
              "</div>"
            ],
            "text/plain": [
              "                               Comment  sentiment_score  sentiment_label  \\\n",
              "0                  you better do dirty                0                1   \n",
              "1              thats soooooooooo right                0                1   \n",
              "2                bro i want that shirt                1                1   \n",
              "3                                 good                3                1   \n",
              "4  bro he only needs to beat jakes ass               -7                0   \n",
              "\n",
              "  sentiment_class  \n",
              "0        positive  \n",
              "1        positive  \n",
              "2        positive  \n",
              "3        positive  \n",
              "4        negative  "
            ]
          },
          "execution_count": 10,
          "metadata": {},
          "output_type": "execute_result"
        }
      ],
      "source": [
        "df = df[['Comment', 'sentiment_score', 'sentiment_label', 'sentiment_class']]\n",
        "df.head()"
      ]
    },
    {
      "cell_type": "code",
      "execution_count": 11,
      "metadata": {
        "gather": {
          "logged": 1738677602202
        },
        "jupyter": {
          "outputs_hidden": false,
          "source_hidden": false
        },
        "nteract": {
          "transient": {
            "deleting": false
          }
        }
      },
      "outputs": [
        {
          "data": {
            "text/plain": [
              "Comment            0\n",
              "sentiment_score    0\n",
              "sentiment_label    0\n",
              "sentiment_class    0\n",
              "dtype: int64"
            ]
          },
          "execution_count": 11,
          "metadata": {},
          "output_type": "execute_result"
        }
      ],
      "source": [
        "df.isnull().sum()"
      ]
    },
    {
      "cell_type": "code",
      "execution_count": 12,
      "metadata": {
        "gather": {
          "logged": 1738677604492
        },
        "jupyter": {
          "outputs_hidden": false,
          "source_hidden": false
        },
        "nteract": {
          "transient": {
            "deleting": false
          }
        }
      },
      "outputs": [
        {
          "data": {
            "text/plain": [
              "Comment            object\n",
              "sentiment_score     int64\n",
              "sentiment_label     int64\n",
              "sentiment_class    object\n",
              "dtype: object"
            ]
          },
          "execution_count": 12,
          "metadata": {},
          "output_type": "execute_result"
        }
      ],
      "source": [
        "df.dtypes"
      ]
    },
    {
      "cell_type": "code",
      "execution_count": 13,
      "metadata": {
        "gather": {
          "logged": 1738677678687
        }
      },
      "outputs": [
        {
          "name": "stderr",
          "output_type": "stream",
          "text": [
            "2025-02-04 14:00:16.481659: I tensorflow/core/util/port.cc:153] oneDNN custom operations are on. You may see slightly different numerical results due to floating-point round-off errors from different computation orders. To turn them off, set the environment variable `TF_ENABLE_ONEDNN_OPTS=0`.\n",
            "2025-02-04 14:00:25.548168: I tensorflow/core/platform/cpu_feature_guard.cc:210] This TensorFlow binary is optimized to use available CPU instructions in performance-critical operations.\n",
            "To enable the following instructions: AVX2 AVX512F AVX512_VNNI FMA, in other operations, rebuild TensorFlow with the appropriate compiler flags.\n"
          ]
        },
        {
          "name": "stdout",
          "output_type": "stream",
          "text": [
            "Num GPUs Available:  0\n",
            "Using Device:  [PhysicalDevice(name='/physical_device:CPU:0', device_type='CPU')]\n"
          ]
        }
      ],
      "source": [
        "import os\n",
        "import numpy as np\n",
        "import shutil\n",
        "import tarfile\n",
        "import tensorflow as tf\n",
        "from transformers import DistilBertTokenizer,DistilBertForSequenceClassification\n",
        "from bs4 import BeautifulSoup\n",
        "import re\n",
        "import matplotlib.pyplot as plt\n",
        "import plotly.express as px\n",
        "import plotly.offline as pyo\n",
        "import plotly.graph_objects as go\n",
        "from wordcloud import WordCloud, STOPWORDS\n",
        "from sklearn.model_selection import train_test_split\n",
        "from sklearn.metrics import classification_report\n",
        "from collections import defaultdict\n",
        "\n",
        "# Force TensorFlow to use the CPU\n",
        "os.environ['CUDA_VISIBLE_DEVICES'] = '-1'  # Disables GPU\n",
        "\n",
        "# Check if TensorFlow is using CPU\n",
        "print(\"Num GPUs Available: \", len(tf.config.experimental.list_physical_devices('GPU')))\n",
        "print(\"Using Device: \", tf.config.experimental.list_physical_devices('CPU'))\n",
        "\n",
        "\n"
      ]
    },
    {
      "cell_type": "code",
      "execution_count": 14,
      "metadata": {
        "gather": {
          "logged": 1738678056568
        }
      },
      "outputs": [
        {
          "name": "stdout",
          "output_type": "stream",
          "text": [
            "Using device: cpu\n"
          ]
        },
        {
          "name": "stderr",
          "output_type": "stream",
          "text": [
            "Some weights of DistilBertForSequenceClassification were not initialized from the model checkpoint at distilbert-base-uncased and are newly initialized: ['pre_classifier.weight', 'classifier.weight', 'pre_classifier.bias', 'classifier.bias']\n",
            "You should probably TRAIN this model on a down-stream task to be able to use it for predictions and inference.\n"
          ]
        }
      ],
      "source": [
        "import transformers\n",
        "from transformers import AdamW, get_linear_schedule_with_warmup\n",
        "import torch\n",
        "from torch import nn, optim\n",
        "from torch.utils.data import Dataset, DataLoader\n",
        "\n",
        "import warnings\n",
        "warnings.filterwarnings('ignore')\n",
        "\n",
        "# Force PyTorch to use CPU\n",
        "device = torch.device('cpu')\n",
        "\n",
        "# Verify the device being used\n",
        "print(f\"Using device: {device}\")\n",
        "\n",
        "model = DistilBertForSequenceClassification.from_pretrained('distilbert-base-uncased', num_labels=2)\n",
        "model = model.to(device)  # Move model to CPU\n"
      ]
    },
    {
      "cell_type": "code",
      "execution_count": 15,
      "metadata": {
        "gather": {
          "logged": 1738678061239
        }
      },
      "outputs": [
        {
          "data": {
            "text/plain": [
              "positive    2684\n",
              "negative    2405\n",
              "Name: sentiment_class, dtype: int64"
            ]
          },
          "execution_count": 15,
          "metadata": {},
          "output_type": "execute_result"
        }
      ],
      "source": [
        "df['sentiment_class'].value_counts()"
      ]
    },
    {
      "cell_type": "code",
      "execution_count": 16,
      "metadata": {
        "gather": {
          "logged": 1738678064364
        }
      },
      "outputs": [
        {
          "data": {
            "text/html": [
              "<div>\n",
              "<style scoped>\n",
              "    .dataframe tbody tr th:only-of-type {\n",
              "        vertical-align: middle;\n",
              "    }\n",
              "\n",
              "    .dataframe tbody tr th {\n",
              "        vertical-align: top;\n",
              "    }\n",
              "\n",
              "    .dataframe thead th {\n",
              "        text-align: right;\n",
              "    }\n",
              "</style>\n",
              "<table border=\"1\" class=\"dataframe\">\n",
              "  <thead>\n",
              "    <tr style=\"text-align: right;\">\n",
              "      <th></th>\n",
              "      <th>Comment</th>\n",
              "      <th>sentiment_score</th>\n",
              "      <th>sentiment_label</th>\n",
              "      <th>sentiment_class</th>\n",
              "    </tr>\n",
              "  </thead>\n",
              "  <tbody>\n",
              "    <tr>\n",
              "      <th>0</th>\n",
              "      <td>you better do dirty</td>\n",
              "      <td>0</td>\n",
              "      <td>1</td>\n",
              "      <td>positive</td>\n",
              "    </tr>\n",
              "    <tr>\n",
              "      <th>1</th>\n",
              "      <td>thats soooooooooo right</td>\n",
              "      <td>0</td>\n",
              "      <td>1</td>\n",
              "      <td>positive</td>\n",
              "    </tr>\n",
              "    <tr>\n",
              "      <th>2</th>\n",
              "      <td>bro i want that shirt</td>\n",
              "      <td>1</td>\n",
              "      <td>1</td>\n",
              "      <td>positive</td>\n",
              "    </tr>\n",
              "    <tr>\n",
              "      <th>3</th>\n",
              "      <td>good</td>\n",
              "      <td>3</td>\n",
              "      <td>1</td>\n",
              "      <td>positive</td>\n",
              "    </tr>\n",
              "    <tr>\n",
              "      <th>4</th>\n",
              "      <td>bro he only needs to beat jakes ass</td>\n",
              "      <td>-7</td>\n",
              "      <td>0</td>\n",
              "      <td>negative</td>\n",
              "    </tr>\n",
              "    <tr>\n",
              "      <th>5</th>\n",
              "      <td>good</td>\n",
              "      <td>3</td>\n",
              "      <td>1</td>\n",
              "      <td>positive</td>\n",
              "    </tr>\n",
              "    <tr>\n",
              "      <th>6</th>\n",
              "      <td>on mike tko</td>\n",
              "      <td>0</td>\n",
              "      <td>1</td>\n",
              "      <td>positive</td>\n",
              "    </tr>\n",
              "    <tr>\n",
              "      <th>7</th>\n",
              "      <td>the tshirt though</td>\n",
              "      <td>0</td>\n",
              "      <td>1</td>\n",
              "      <td>positive</td>\n",
              "    </tr>\n",
              "    <tr>\n",
              "      <th>8</th>\n",
              "      <td>yeah boy tysons gonna get shit done the goat</td>\n",
              "      <td>-3</td>\n",
              "      <td>0</td>\n",
              "      <td>negative</td>\n",
              "    </tr>\n",
              "    <tr>\n",
              "      <th>9</th>\n",
              "      <td>please win mike</td>\n",
              "      <td>5</td>\n",
              "      <td>1</td>\n",
              "      <td>positive</td>\n",
              "    </tr>\n",
              "    <tr>\n",
              "      <th>10</th>\n",
              "      <td>i want this tshirt</td>\n",
              "      <td>1</td>\n",
              "      <td>1</td>\n",
              "      <td>positive</td>\n",
              "    </tr>\n",
              "    <tr>\n",
              "      <th>11</th>\n",
              "      <td>love that shirt</td>\n",
              "      <td>3</td>\n",
              "      <td>1</td>\n",
              "      <td>positive</td>\n",
              "    </tr>\n",
              "    <tr>\n",
              "      <th>12</th>\n",
              "      <td>good</td>\n",
              "      <td>3</td>\n",
              "      <td>1</td>\n",
              "      <td>positive</td>\n",
              "    </tr>\n",
              "    <tr>\n",
              "      <th>13</th>\n",
              "      <td>good</td>\n",
              "      <td>3</td>\n",
              "      <td>1</td>\n",
              "      <td>positive</td>\n",
              "    </tr>\n",
              "    <tr>\n",
              "      <th>14</th>\n",
              "      <td>i cant wait to see it</td>\n",
              "      <td>0</td>\n",
              "      <td>1</td>\n",
              "      <td>positive</td>\n",
              "    </tr>\n",
              "  </tbody>\n",
              "</table>\n",
              "</div>"
            ],
            "text/plain": [
              "                                         Comment  sentiment_score  \\\n",
              "0                            you better do dirty                0   \n",
              "1                        thats soooooooooo right                0   \n",
              "2                          bro i want that shirt                1   \n",
              "3                                           good                3   \n",
              "4            bro he only needs to beat jakes ass               -7   \n",
              "5                                           good                3   \n",
              "6                                    on mike tko                0   \n",
              "7                              the tshirt though                0   \n",
              "8   yeah boy tysons gonna get shit done the goat               -3   \n",
              "9                                please win mike                5   \n",
              "10                            i want this tshirt                1   \n",
              "11                               love that shirt                3   \n",
              "12                                          good                3   \n",
              "13                                          good                3   \n",
              "14                         i cant wait to see it                0   \n",
              "\n",
              "    sentiment_label sentiment_class  \n",
              "0                 1        positive  \n",
              "1                 1        positive  \n",
              "2                 1        positive  \n",
              "3                 1        positive  \n",
              "4                 0        negative  \n",
              "5                 1        positive  \n",
              "6                 1        positive  \n",
              "7                 1        positive  \n",
              "8                 0        negative  \n",
              "9                 1        positive  \n",
              "10                1        positive  \n",
              "11                1        positive  \n",
              "12                1        positive  \n",
              "13                1        positive  \n",
              "14                1        positive  "
            ]
          },
          "execution_count": 16,
          "metadata": {},
          "output_type": "execute_result"
        }
      ],
      "source": [
        "df.head(15)"
      ]
    },
    {
      "cell_type": "code",
      "execution_count": 57,
      "metadata": {
        "gather": {
          "logged": 1738649474275
        },
        "jupyter": {
          "outputs_hidden": false,
          "source_hidden": false
        },
        "nteract": {
          "transient": {
            "deleting": false
          }
        }
      },
      "outputs": [
        {
          "data": {
            "image/png": "[encoded data removed]",
            "text/plain": [
              "<Figure size 640x480 with 1 Axes>"
            ]
          },
          "metadata": {},
          "output_type": "display_data"
        }
      ],
      "source": [
        "import seaborn as sns\n",
        "import matplotlib.pyplot as plt\n",
        "\n",
        "# Countplot to visualize sentiment distribution\n",
        "sns.countplot(x='sentiment_class', data=df, palette='coolwarm')\n",
        "plt.title('Distribution of Sentiment Classes')\n",
        "plt.xlabel('Sentiment Class')\n",
        "plt.ylabel('Count')\n",
        "plt.show()"
      ]
    },
    {
      "cell_type": "code",
      "execution_count": 17,
      "metadata": {
        "gather": {
          "logged": 1738678078033
        },
        "jupyter": {
          "outputs_hidden": false,
          "source_hidden": false
        },
        "nteract": {
          "transient": {
            "deleting": false
          }
        }
      },
      "outputs": [],
      "source": [
        "# Set the model name\n",
        "MODEL_NAME = 'distilbert-base-uncased'\n",
        "\n",
        "\n",
        "tokenizer = DistilBertTokenizer.from_pretrained(MODEL_NAME)"
      ]
    },
    {
      "cell_type": "code",
      "execution_count": 31,
      "metadata": {
        "gather": {
          "logged": 1738678756942
        },
        "jupyter": {
          "outputs_hidden": false,
          "source_hidden": false
        },
        "nteract": {
          "transient": {
            "deleting": false
          }
        }
      },
      "outputs": [
        {
          "name": "stdout",
          "output_type": "stream",
          "text": [
            "[SEP] 102\n",
            "[CLS] 101\n",
            "[PAD] 0\n",
            "[UNK] 100\n"
          ]
        }
      ],
      "source": [
        "# Some of the common distiBERT tokens\n",
        "print(tokenizer.sep_token, tokenizer.sep_token_id) # marker for ending of a sentence\n",
        "print(tokenizer.cls_token, tokenizer.cls_token_id) # start of each sentence, so BERT knows we’re doing classification\n",
        "print(tokenizer.pad_token, tokenizer.pad_token_id) # special token for padding\n",
        "print(tokenizer.unk_token, tokenizer.unk_token_id) # tokens not found in training set"
      ]
    },
    {
      "cell_type": "code",
      "execution_count": 32,
      "metadata": {
        "gather": {
          "logged": 1738678759122
        },
        "jupyter": {
          "outputs_hidden": false,
          "source_hidden": false
        },
        "nteract": {
          "transient": {
            "deleting": false
          }
        }
      },
      "outputs": [],
      "source": [
        "MAX_LEN = 150"
      ]
    },
    {
      "cell_type": "code",
      "execution_count": 33,
      "metadata": {
        "gather": {
          "logged": 1738678761037
        }
      },
      "outputs": [],
      "source": [
        "#new\n",
        "\n",
        "from torch.utils.data import Dataset\n",
        "import torch\n",
        "\n",
        "class InstaComments(Dataset):\n",
        "    # Constructor Function \n",
        "    def __init__(self, comments, targets, tokenizer, max_len):\n",
        "        self.comments = comments  \n",
        "        self.targets = targets\n",
        "        self.tokenizer = tokenizer\n",
        "        self.max_len = max_len\n",
        "    \n",
        "    # Length magic method\n",
        "    def __len__(self):\n",
        "        return len(self.comments) \n",
        "        \n",
        "    # Get item magic method\n",
        "    def __getitem__(self, item):\n",
        "        comment = str(self.comments[item])  \n",
        "        target = self.targets[item]\n",
        "        \n",
        "        # Encoded format to be returned \n",
        "        encoding = self.tokenizer(\n",
        "            comment,  \n",
        "            add_special_tokens=True,  \n",
        "            max_length=self.max_len,  \n",
        "            truncation=True,\n",
        "            padding='max_length',  \n",
        "            return_token_type_ids=False,  \n",
        "            return_attention_mask=True,  \n",
        "            return_tensors='pt', \n",
        "        )\n",
        "        \n",
        "        # Convert the output into the required format\n",
        "        return {\n",
        "            'comment_text': comment,  # The raw comment text\n",
        "            'input_ids': encoding['input_ids'].flatten(),  # Flatten input_ids\n",
        "            'attention_mask': encoding['attention_mask'].flatten(),  # Flatten attention_mask\n",
        "            'targets': torch.tensor(target, dtype=torch.long)  # Target label (converted to tensor)\n",
        "        }\n"
      ]
    },
    {
      "cell_type": "markdown",
      "metadata": {
        "nteract": {
          "transient": {
            "deleting": false
          }
        }
      },
      "source": [
        "#### **DATA SPLITTING**"
      ]
    },
    {
      "cell_type": "code",
      "execution_count": 34,
      "metadata": {
        "gather": {
          "logged": 1738678763650
        }
      },
      "outputs": [
        {
          "name": "stdout",
          "output_type": "stream",
          "text": [
            "Training set shape: (4071, 4)\n",
            "Validation set shape: (509, 4)\n",
            "Test set shape: (509, 4)\n"
          ]
        }
      ],
      "source": [
        "#NEW\n",
        "from sklearn.model_selection import train_test_split\n",
        "\n",
        "RANDOM_SEED = 42\n",
        "\n",
        "# Split the data into training and test sets (80% train, 20% test) while preserving the sentiment distribution\n",
        "df_train, df_test = train_test_split(df, test_size=0.2, random_state=RANDOM_SEED, stratify=df['sentiment_class'])\n",
        "\n",
        "# Split the test set into validation and test sets (50% validation, 50% test) while preserving the sentiment distribution\n",
        "df_val, df_test = train_test_split(df_test, test_size=0.5, random_state=RANDOM_SEED, stratify=df_test['sentiment_class'])\n",
        "\n",
        "# Check the shape of each split to ensure the data has been divided as expected\n",
        "print(f\"Training set shape: {df_train.shape}\")\n",
        "print(f\"Validation set shape: {df_val.shape}\")\n",
        "print(f\"Test set shape: {df_test.shape}\")\n"
      ]
    },
    {
      "cell_type": "markdown",
      "metadata": {
        "nteract": {
          "transient": {
            "deleting": false
          }
        }
      },
      "source": [
        "#### **DATA LOADER**"
      ]
    },
    {
      "cell_type": "code",
      "execution_count": 38,
      "metadata": {
        "gather": {
          "logged": 1738678821545
        }
      },
      "outputs": [],
      "source": [
        "from torch.utils.data import DataLoader\n",
        "\n",
        "def create_data_loader(df, tokenizer, max_len, batch_size):\n",
        "\n",
        "    ds = InstaComments(\n",
        "        comments=df['Comment'].to_numpy(), \n",
        "        targets=df['sentiment_label'].to_numpy(),  \n",
        "        tokenizer=tokenizer,\n",
        "        max_len=max_len\n",
        "    )\n",
        "    \n",
        "    return DataLoader(\n",
        "        ds,\n",
        "        batch_size=batch_size,\n",
        "        num_workers=0  \n",
        "        )\n",
        "\n"
      ]
    },
    {
      "cell_type": "markdown",
      "metadata": {
        "nteract": {
          "transient": {
            "deleting": false
          }
        }
      },
      "source": [
        "#### **DATA LOADERS**"
      ]
    },
    {
      "cell_type": "code",
      "execution_count": 39,
      "metadata": {
        "gather": {
          "logged": 1738678831580
        }
      },
      "outputs": [
        {
          "name": "stdout",
          "output_type": "stream",
          "text": [
            "Input IDs: torch.Size([32, 150])\n",
            "Attention Mask: torch.Size([32, 150])\n",
            "Targets: torch.Size([32])\n"
          ]
        }
      ],
      "source": [
        "#NEW\n",
        "BATCH_SIZE = 32\n",
        "# Create the train, validation, and test data loaders\n",
        "train_data_loader = create_data_loader(df_train, tokenizer, MAX_LEN, BATCH_SIZE)\n",
        "val_data_loader = create_data_loader(df_val, tokenizer, MAX_LEN, BATCH_SIZE)\n",
        "test_data_loader = create_data_loader(df_test, tokenizer, MAX_LEN, BATCH_SIZE)\n",
        "\n",
        "# Check the first batch of the training data loader\n",
        "for batch in train_data_loader:\n",
        "    print(\"Input IDs:\", batch['input_ids'].shape)  \n",
        "    print(\"Attention Mask:\", batch['attention_mask'].shape) \n",
        "    print(\"Targets:\", batch['targets'].shape)  \n",
        "    break\n"
      ]
    },
    {
      "cell_type": "code",
      "execution_count": 65,
      "metadata": {
        "gather": {
          "logged": 1738649495566
        },
        "jupyter": {
          "outputs_hidden": false,
          "source_hidden": false
        },
        "nteract": {
          "transient": {
            "deleting": false
          }
        }
      },
      "outputs": [
        {
          "name": "stdout",
          "output_type": "stream",
          "text": [
            "dict_keys(['comment_text', 'input_ids', 'attention_mask', 'targets'])\n",
            "torch.Size([32, 150])\n",
            "torch.Size([32, 150])\n",
            "torch.Size([32])\n"
          ]
        }
      ],
      "source": [
        "# Examples \n",
        "data = next(iter(train_data_loader))\n",
        "print(data.keys())\n",
        "\n",
        "print(data['input_ids'].shape)\n",
        "print(data['attention_mask'].shape)\n",
        "print(data['targets'].shape)"
      ]
    },
    {
      "cell_type": "markdown",
      "metadata": {
        "nteract": {
          "transient": {
            "deleting": false
          }
        }
      },
      "source": [
        "SENTIMENT CLASSIFICATION USING BERT"
      ]
    },
    {
      "cell_type": "code",
      "execution_count": 44,
      "metadata": {
        "gather": {
          "logged": 1738679557925
        },
        "jupyter": {
          "outputs_hidden": false,
          "source_hidden": false
        },
        "nteract": {
          "transient": {
            "deleting": false
          }
        }
      },
      "outputs": [
        {
          "name": "stderr",
          "output_type": "stream",
          "text": [
            "Some weights of DistilBertForSequenceClassification were not initialized from the model checkpoint at distilbert-base-uncased and are newly initialized: ['pre_classifier.weight', 'classifier.weight', 'pre_classifier.bias', 'classifier.bias']\n",
            "You should probably TRAIN this model on a down-stream task to be able to use it for predictions and inference.\n"
          ]
        }
      ],
      "source": [
        "distilbert_model = DistilBertForSequenceClassification.from_pretrained(MODEL_NAME, num_labels=2)"
      ]
    },
    {
      "cell_type": "code",
      "execution_count": 41,
      "metadata": {
        "gather": {
          "logged": 1738679016438
        }
      },
      "outputs": [],
      "source": [
        "#NEW\n",
        "\n",
        "import torch\n",
        "import torch.nn as nn\n",
        "from transformers import DistilBertModel\n",
        "\n",
        "class SentimentClassifier(nn.Module):\n",
        "    \n",
        "    # Constructor method \n",
        "    def __init__(self, n_classes, model_name=MODEL_NAME):\n",
        "        super(SentimentClassifier, self).__init__()\n",
        "        \n",
        "        # Load the pre-trained DistilBERT model\n",
        "        self.distilbert = DistilBertModel.from_pretrained(model_name)\n",
        "        \n",
        "        # Dropout layer to prevent overfitting\n",
        "        self.drop = nn.Dropout(p=0.3)\n",
        "        \n",
        "        # Output layer for classification (mapping to n_classes)\n",
        "        self.out = nn.Linear(self.distilbert.config.hidden_size, n_classes)\n",
        "        \n",
        "    def forward(self, input_ids, attention_mask):\n",
        "        # DistilBERT model returns the outputs with the last_hidden_state\n",
        "        outputs = self.distilbert(input_ids=input_ids, attention_mask=attention_mask)\n",
        "        \n",
        "        # Extract the representation of the [CLS] token (first token) from last hidden state\n",
        "        cls_token_output = outputs.last_hidden_state[:, 0, :]\n",
        "        \n",
        "        # Apply dropout for regularization\n",
        "        output = self.drop(cls_token_output)\n",
        "        \n",
        "        # Pass through the final classification layer\n",
        "        return self.out(output)\n"
      ]
    },
    {
      "cell_type": "markdown",
      "metadata": {
        "nteract": {
          "transient": {
            "deleting": false
          }
        }
      },
      "source": [
        "#### **MOVE TO CLASSIFFIER**"
      ]
    },
    {
      "cell_type": "code",
      "execution_count": 42,
      "metadata": {
        "gather": {
          "logged": 1738679435696
        }
      },
      "outputs": [
        {
          "name": "stdout",
          "output_type": "stream",
          "text": [
            "Model is being used on: cpu\n"
          ]
        }
      ],
      "source": [
        "#NEW\n",
        "# In the training loop, make sure inputs are moved to the same device as the model\n",
        "for batch in train_data_loader:\n",
        "    input_ids = batch['input_ids'].to(device)\n",
        "    attention_mask = batch['attention_mask'].to(device)\n",
        "    targets = batch['targets'].to(device)\n",
        "    \n",
        "    # Forward pass\n",
        "    outputs = model(input_ids=input_ids, attention_mask=attention_mask)\n",
        "    \n",
        "    \n",
        "import torch\n",
        "device = torch.device(\"cuda\" if torch.cuda.is_available() else \"cpu\")\n",
        "class_names = ['negative', 'positive']\n",
        "model = SentimentClassifier(len(class_names))\n",
        "\n",
        "model = model.to(device)\n",
        "\n",
        "print(f\"Model is being used on: {device}\")\n"
      ]
    },
    {
      "cell_type": "code",
      "execution_count": 45,
      "metadata": {
        "gather": {
          "logged": 1738679595470
        },
        "jupyter": {
          "outputs_hidden": false,
          "source_hidden": false
        },
        "nteract": {
          "transient": {
            "deleting": false
          }
        }
      },
      "outputs": [
        {
          "name": "stdout",
          "output_type": "stream",
          "text": [
            "768\n"
          ]
        }
      ],
      "source": [
        "print(distilbert_model.config.hidden_size)"
      ]
    },
    {
      "cell_type": "markdown",
      "metadata": {
        "nteract": {
          "transient": {
            "deleting": false
          }
        }
      },
      "source": [
        "#### **Optimizer Setup (AdamW)**"
      ]
    },
    {
      "cell_type": "code",
      "execution_count": 46,
      "metadata": {
        "gather": {
          "logged": 1738679751662
        }
      },
      "outputs": [],
      "source": [
        "optimizer = AdamW(model.parameters(), lr=2e-5, correct_bias=False)"
      ]
    },
    {
      "cell_type": "markdown",
      "metadata": {
        "nteract": {
          "transient": {
            "deleting": false
          }
        }
      },
      "source": [
        "#### **Learning Rate Scheduler**"
      ]
    },
    {
      "cell_type": "code",
      "execution_count": 47,
      "metadata": {
        "gather": {
          "logged": 1738679925445
        }
      },
      "outputs": [],
      "source": [
        "from transformers import AdamW, get_linear_schedule_with_warmup\n",
        "import torch.nn as nn\n",
        "\n",
        "# Number of iterations \n",
        "EPOCHS = 3\n",
        "\n",
        "# Optimizer AdamW\n",
        "optimizer = AdamW(model.parameters(), lr=2e-5, correct_bias=False)\n",
        "\n",
        "# Total number of training steps\n",
        "total_steps = len(train_data_loader) * EPOCHS\n",
        "\n",
        "warmup_steps = int(0.1 * total_steps)\n",
        "\n",
        "# Learning rate scheduler\n",
        "scheduler = get_linear_schedule_with_warmup(\n",
        "    optimizer,\n",
        "    num_warmup_steps=warmup_steps,\n",
        "    num_training_steps=total_steps\n",
        ")\n",
        "\n",
        "# Loss function for classification\n",
        "loss_fn = nn.CrossEntropyLoss().to(device)\n"
      ]
    },
    {
      "cell_type": "code",
      "execution_count": 48,
      "metadata": {
        "gather": {
          "logged": 1738679935403
        }
      },
      "outputs": [],
      "source": [
        "#NEW\n",
        "import torch\n",
        "import numpy as np\n",
        "import torch.nn as nn\n",
        "\n",
        "# Function for a single training iteration\n",
        "def train_epoch(model, data_loader, loss_fn, optimizer, device, scheduler, n_examples):\n",
        "    model = model.train()\n",
        "    losses = []\n",
        "    correct_predictions = 0\n",
        "    \n",
        "    for d in data_loader:\n",
        "        # Move data to device\n",
        "        input_ids = d[\"input_ids\"].to(device)\n",
        "        attention_mask = d[\"attention_mask\"].to(device)\n",
        "        targets = d[\"targets\"].to(device)\n",
        "        \n",
        "        # Forward pass\n",
        "        outputs = model(input_ids=input_ids, attention_mask=attention_mask)\n",
        "        \n",
        "        # Get predictions and compute loss\n",
        "        _, preds = torch.max(outputs, dim=1) \n",
        "        loss = loss_fn(outputs, targets)  \n",
        "        \n",
        "        # Track correct predictions and loss\n",
        "        correct_predictions += torch.sum(preds == targets)  \n",
        "        losses.append(loss.item())  \n",
        "        # Backward pass\n",
        "        loss.backward()\n",
        "        \n",
        "        # Gradient clipping to prevent explosion of gradients\n",
        "        nn.utils.clip_grad_norm_(model.parameters(), max_norm=1.0)\n",
        "        \n",
        "        # Optimization step\n",
        "        optimizer.step()\n",
        "        scheduler.step()\n",
        "        optimizer.zero_grad()  \n",
        "    \n",
        "    # Return the accuracy and the average loss\n",
        "    return correct_predictions.double() / n_examples, np.mean(losses)\n"
      ]
    },
    {
      "cell_type": "code",
      "execution_count": 49,
      "metadata": {
        "gather": {
          "logged": 1738679971467
        }
      },
      "outputs": [],
      "source": [
        "##NEW\n",
        "import torch.nn.functional as F  \n",
        "\n",
        "def eval_model(model, data_loader, loss_fn, device, n_examples):\n",
        "    model = model.eval()  # Set the model to evaluation mode\n",
        "    \n",
        "    losses = []\n",
        "    correct_predictions = 0\n",
        "    all_preds = []  # To store predicted probabilities for AUC/ROC calculation\n",
        "    all_labels = []  # To store true labels for AUC/ROC calculation\n",
        "    \n",
        "    # Disable gradient computation\n",
        "    with torch.no_grad():\n",
        "        for d in data_loader:\n",
        "            # Get the inputs and targets, move to the appropriate device\n",
        "            input_ids = d[\"input_ids\"].to(device)\n",
        "            attention_mask = d[\"attention_mask\"].to(device)\n",
        "            targets = d[\"targets\"].to(device)  \n",
        "            \n",
        "            # Forward pass to get model outputs (logits)\n",
        "            outputs = model(input_ids=input_ids, attention_mask=attention_mask)\n",
        "            \n",
        "            # Apply softmax to get probabilities (for AUC/ROC)\n",
        "            probs = F.softmax(outputs, dim=1) \n",
        "            \n",
        "            # Get predictions from the output probabilities (for accuracy)\n",
        "            _, preds = torch.max(probs, dim=1)\n",
        "            \n",
        "            # Calculate the loss\n",
        "            loss = loss_fn(outputs, targets)\n",
        "            \n",
        "            # Track correct predictions\n",
        "            correct_predictions += torch.sum(preds == targets)\n",
        "            losses.append(loss.item())\n",
        "            \n",
        "            # Collect all predicted probabilities and true labels for AUC/ROC\n",
        "            all_preds.append(probs.cpu().numpy())  \n",
        "            all_labels.append(targets.cpu().numpy()) \n",
        "    # Concatenate all predictions and true labels for AUC computation\n",
        "    all_preds = np.concatenate(all_preds, axis=0)\n",
        "    all_labels = np.concatenate(all_labels, axis=0)\n",
        "    \n",
        "    # Return accuracy, average loss, predicted probabilities, and true labels\n",
        "    return correct_predictions.double() / n_examples, np.mean(losses), all_preds, all_labels\n"
      ]
    },
    {
      "cell_type": "code",
      "execution_count": 50,
      "metadata": {
        "gather": {
          "logged": 1738680590708
        }
      },
      "outputs": [
        {
          "name": "stdout",
          "output_type": "stream",
          "text": [
            "Epoch 1/3\n",
            "---\n",
            "Train loss: 0.3498 | accuracy: 0.8344\n",
            "Val loss: 0.1630 | accuracy: 0.9312\n",
            "\n",
            "Epoch 2/3\n",
            "---\n",
            "Train loss: 0.1134 | accuracy: 0.9595\n",
            "Val loss: 0.2032 | accuracy: 0.9253\n",
            "\n",
            "Epoch 3/3\n",
            "---\n",
            "Train loss: 0.0379 | accuracy: 0.9887\n",
            "Val loss: 0.2318 | accuracy: 0.9273\n",
            "\n"
          ]
        },
        {
          "data": {
            "text/plain": [
              "\"  # Save model if validation accuracy improves\\n    if val_acc > best_accuracy:\\n        torch.save(model.state_dict(), 'distilbert_model.bin')\\n        best_accuracy = val_acc\\n\\n\""
            ]
          },
          "execution_count": 50,
          "metadata": {},
          "output_type": "execute_result"
        }
      ],
      "source": [
        "#NEW\n",
        "from collections import defaultdict\n",
        "\n",
        "# Track training history\n",
        "history = defaultdict(list)\n",
        "best_accuracy = 0\n",
        "\n",
        "for epoch in range(EPOCHS):\n",
        "    # Show details\n",
        "    print(f\"Epoch {epoch + 1}/{EPOCHS}\")\n",
        "    print(\"-\" * 3)\n",
        "    \n",
        "    # Training phase\n",
        "    train_acc, train_loss = train_epoch(\n",
        "        model,\n",
        "        train_data_loader,\n",
        "        loss_fn,\n",
        "        optimizer,\n",
        "        device,\n",
        "        scheduler,\n",
        "        len(df_train)\n",
        "    )\n",
        "    \n",
        "    print(f\"Train loss: {train_loss:.4f} | accuracy: {train_acc:.4f}\")\n",
        "    \n",
        " \n",
        "    val_acc, val_loss, val_preds, val_labels = eval_model(\n",
        "    model,\n",
        "    val_data_loader,\n",
        "    loss_fn,\n",
        "    device,\n",
        "    len(df_val)\n",
        "    )\n",
        "    \n",
        "    print(f\"Val loss: {val_loss:.4f} | accuracy: {val_acc:.4f}\")\n",
        "    print()\n",
        "    \n",
        "    # Save training history\n",
        "    history['train_acc'].append(train_acc)\n",
        "    history['train_loss'].append(train_loss)\n",
        "    history['val_acc'].append(val_acc)\n",
        "    history['val_loss'].append(val_loss)\n",
        "    "
      ]
    },
    {
      "cell_type": "code",
      "execution_count": 51,
      "metadata": {
        "gather": {
          "logged": 1738680604939
        },
        "jupyter": {
          "outputs_hidden": false,
          "source_hidden": false
        },
        "nteract": {
          "transient": {
            "deleting": false
          }
        }
      },
      "outputs": [
        {
          "data": {
            "image/png": "[encoded data removed]",
            "text/plain": [
              "<Figure size 640x480 with 1 Axes>"
            ]
          },
          "metadata": {},
          "output_type": "display_data"
        }
      ],
      "source": [
        "import matplotlib.pyplot as plt  \n",
        "\n",
        "# Plot training and validation accuracy\n",
        "plt.plot(history['train_acc'], label='train accuracy')\n",
        "plt.plot(history['val_acc'], label='validation accuracy')\n",
        "\n",
        "# Set graph attributes\n",
        "plt.title('Training History')\n",
        "plt.ylabel('Accuracy')\n",
        "plt.xlabel('Epoch')\n",
        "plt.legend()\n",
        "\n",
        "plt.ylim([0, 1])\n",
        "\n",
        "plt.show()\n"
      ]
    },
    {
      "cell_type": "code",
      "execution_count": 52,
      "metadata": {
        "gather": {
          "logged": 1738680649949
        },
        "jupyter": {
          "outputs_hidden": false,
          "source_hidden": false
        },
        "nteract": {
          "transient": {
            "deleting": false
          }
        }
      },
      "outputs": [
        {
          "name": "stdout",
          "output_type": "stream",
          "text": [
            "Test Accuracy: 0.9430\n",
            "Test Loss: 0.2083\n"
          ]
        }
      ],
      "source": [
        "# Evaluate model on test data\n",
        "test_acc, test_loss, test_preds, test_labels = eval_model(\n",
        "    model=model,\n",
        "    data_loader=test_data_loader,\n",
        "    loss_fn=loss_fn,\n",
        "    device=device,\n",
        "    n_examples=len(df_test)  \n",
        ")\n",
        "\n",
        "# Convert accuracy tensor to scalar\n",
        "test_accuracy = test_acc.item()\n",
        "\n",
        "# Print results\n",
        "print(f\"Test Accuracy: {test_accuracy:.4f}\")\n",
        "print(f\"Test Loss: {test_loss:.4f}\")\n"
      ]
    },
    {
      "cell_type": "code",
      "execution_count": 53,
      "metadata": {
        "gather": {
          "logged": 1738680786949
        }
      },
      "outputs": [
        {
          "name": "stdout",
          "output_type": "stream",
          "text": [
            "              precision    recall  f1-score   support\n",
            "\n",
            "    negative       0.92      0.97      0.94       241\n",
            "    positive       0.97      0.92      0.94       268\n",
            "\n",
            "    accuracy                           0.94       509\n",
            "   macro avg       0.94      0.94      0.94       509\n",
            "weighted avg       0.94      0.94      0.94       509\n",
            "\n"
          ]
        },
        {
          "data": {
            "image/png": "[encoded data removed]",
            "text/plain": [
              "<Figure size 600x500 with 2 Axes>"
            ]
          },
          "metadata": {},
          "output_type": "display_data"
        }
      ],
      "source": [
        "from sklearn.metrics import classification_report, confusion_matrix\n",
        "import seaborn as sns\n",
        "import matplotlib.pyplot as plt\n",
        "\n",
        "# Convert test predictions to class labels\n",
        "test_pred_labels = np.argmax(test_preds, axis=1)\n",
        "\n",
        "# Generate classification report\n",
        "print(classification_report(test_labels, test_pred_labels, target_names=['negative', 'positive']))\n",
        "\n",
        "# Confusion matrix\n",
        "cm = confusion_matrix(test_labels, test_pred_labels)\n",
        "\n",
        "plt.figure(figsize=(6, 5))\n",
        "sns.heatmap(cm, annot=True, fmt=\"d\", cmap=\"Blues\", xticklabels=['negative', 'positive'], yticklabels=['negative', 'positive'])\n",
        "plt.xlabel(\"Predicted Label\")\n",
        "plt.ylabel(\"True Label\")\n",
        "plt.title(\"Confusion Matrix\")\n",
        "plt.show()\n"
      ]
    },
    {
      "cell_type": "code",
      "execution_count": 54,
      "metadata": {
        "gather": {
          "logged": 1738680811325
        }
      },
      "outputs": [
        {
          "name": "stdout",
          "output_type": "stream",
          "text": [
            "AUC Score: 0.9855\n"
          ]
        },
        {
          "data": {
            "image/png": "[encoded data removed]",
            "text/plain": [
              "<Figure size 600x500 with 1 Axes>"
            ]
          },
          "metadata": {},
          "output_type": "display_data"
        }
      ],
      "source": [
        "from sklearn.metrics import roc_auc_score, roc_curve\n",
        "\n",
        "# Compute AUC score\n",
        "auc_score = roc_auc_score(test_labels, test_preds[:, 1])  \n",
        "print(f\"AUC Score: {auc_score:.4f}\")\n",
        "\n",
        "# Compute ROC curve\n",
        "fpr, tpr, _ = roc_curve(test_labels, test_preds[:, 1])\n",
        "\n",
        "plt.figure(figsize=(6, 5))\n",
        "plt.plot(fpr, tpr, label=f\"ROC Curve (AUC = {auc_score:.4f})\")\n",
        "plt.plot([0, 1], [0, 1], linestyle=\"--\", color=\"gray\") \n",
        "plt.xlabel(\"False Positive Rate\")\n",
        "plt.ylabel(\"True Positive Rate\")\n",
        "plt.title(\"Receiver Operating Characteristic (ROC) Curve\")\n",
        "plt.legend()\n",
        "plt.show()\n"
      ]
    },
    {
      "cell_type": "markdown",
      "metadata": {
        "nteract": {
          "transient": {
            "deleting": false
          }
        }
      },
      "source": [
        "#### **F1 REPORT**"
      ]
    },
    {
      "cell_type": "code",
      "execution_count": 55,
      "metadata": {
        "gather": {
          "logged": 1738680829109
        }
      },
      "outputs": [
        {
          "name": "stdout",
          "output_type": "stream",
          "text": [
            "              precision    recall  f1-score   support\n",
            "\n",
            "    negative       0.92      0.97      0.94       241\n",
            "    positive       0.97      0.92      0.94       268\n",
            "\n",
            "    accuracy                           0.94       509\n",
            "   macro avg       0.94      0.94      0.94       509\n",
            "weighted avg       0.94      0.94      0.94       509\n",
            "\n"
          ]
        }
      ],
      "source": [
        "from sklearn.metrics import classification_report\n",
        "import torch\n",
        "\n",
        "# Evaluate model on test data to get predictions\n",
        "def get_predictions(model, data_loader, device):\n",
        "    model = model.eval()\n",
        "    all_preds = []\n",
        "    all_labels = []\n",
        "    \n",
        "    with torch.no_grad():\n",
        "        for d in data_loader:\n",
        "            input_ids = d[\"input_ids\"].to(device)\n",
        "            attention_mask = d[\"attention_mask\"].to(device)\n",
        "            targets = d[\"targets\"].to(device)\n",
        "            \n",
        "            \n",
        "            outputs = model(input_ids=input_ids, attention_mask=attention_mask)\n",
        "            _, preds = torch.max(outputs, dim=1)\n",
        "            \n",
        "           \n",
        "            all_preds.extend(preds.cpu().numpy())  \n",
        "            all_labels.extend(targets.cpu().numpy())  \n",
        "    \n",
        "    return all_preds, all_labels\n",
        "\n",
        "\n",
        "predictions, true_labels = get_predictions(model, test_data_loader, device)\n",
        "\n",
        "# Generate classification report\n",
        "report = classification_report(true_labels, predictions, target_names=['negative','positive'])\n",
        "print(report)\n"
      ]
    },
    {
      "cell_type": "code",
      "execution_count": 56,
      "metadata": {
        "gather": {
          "logged": 1738681016206
        }
      },
      "outputs": [
        {
          "name": "stdout",
          "output_type": "stream",
          "text": [
            "      Metric         Value\n",
            "0    AUC/ROC  9.855081e-01\n",
            "1  Precision  9.443359e-01\n",
            "2   Accuracy  9.430255e-01\n",
            "3        MAE  5.697446e-02\n",
            "4        MSE  5.697446e-02\n",
            "5       RMSE  2.386932e-01\n",
            "6       MAPE  1.571709e+10\n"
          ]
        }
      ],
      "source": [
        "from sklearn.metrics import (\n",
        "    accuracy_score,\n",
        "    precision_score,\n",
        "    roc_auc_score,\n",
        "    mean_absolute_error,\n",
        "    mean_squared_error\n",
        ")\n",
        "from sklearn.preprocessing import label_binarize\n",
        "import numpy as np\n",
        "import pandas as pd\n",
        "\n",
        "\n",
        "accuracy, loss, all_preds, all_labels = eval_model(model, test_data_loader, loss_fn, device, len(df_test))\n",
        "\n",
        "# Ensure all_labels is 1D\n",
        "if all_labels.ndim > 1:\n",
        "    all_labels = np.argmax(all_labels, axis=1)\n",
        "\n",
        "# Get unique classes\n",
        "unique_classes = np.unique(all_labels)\n",
        "\n",
        "\n",
        "if len(unique_classes) == 2:\n",
        "    \n",
        "    auc_roc = roc_auc_score(all_labels, all_preds[:, 1])\n",
        "else:\n",
        "    \n",
        "    all_labels_binarized = label_binarize(all_labels, classes=unique_classes)\n",
        "    auc_roc = roc_auc_score(all_labels_binarized, all_preds, multi_class='ovr', average='weighted')\n",
        "\n",
        "# Calculate predictions from probabilities\n",
        "predictions = np.argmax(all_preds, axis=1)\n",
        "\n",
        "# Calculate metrics\n",
        "precision = precision_score(all_labels, predictions, average='weighted', labels=np.unique(predictions))\n",
        "accuracy = accuracy_score(all_labels, predictions)\n",
        "mae = mean_absolute_error(all_labels, predictions)\n",
        "mse = mean_squared_error(all_labels, predictions)\n",
        "rmse = np.sqrt(mse)\n",
        "mape = np.mean(np.abs((all_labels - predictions) / (all_labels + 1e-10))) * 100\n",
        "\n",
        "# Prepare the results in a tabular format\n",
        "metrics = {\n",
        "    \"Metric\": [\"AUC/ROC\", \"Precision\", \"Accuracy\", \"MAE\", \"MSE\", \"RMSE\", \"MAPE\"],\n",
        "    \"Value\": [auc_roc, precision, accuracy, mae, mse, rmse, mape]\n",
        "}\n",
        "\n",
        "metrics_df = pd.DataFrame(metrics)\n",
        "\n",
        "# Print the results as a table\n",
        "print(metrics_df)\n"
      ]
    },
    {
      "cell_type": "markdown",
      "metadata": {
        "nteract": {
          "transient": {
            "deleting": false
          }
        }
      },
      "source": []
    },
    {
      "cell_type": "code",
      "execution_count": null,
      "metadata": {},
      "outputs": [],
      "source": []
    },
    {
      "cell_type": "code",
      "execution_count": 57,
      "metadata": {
        "gather": {
          "logged": 1738681281004
        }
      },
      "outputs": [
        {
          "name": "stdout",
          "output_type": "stream",
          "text": [
            "Enter a comment (or type 'exit' to quit):\n",
            "Comment: damn\n",
            "Predicted Sentiment: negative\n",
            "\n",
            "Enter a comment (or type 'exit' to quit):\n",
            "Comment: fuck\n",
            "Predicted Sentiment: negative\n",
            "\n",
            "Enter a comment (or type 'exit' to quit):\n"
          ]
        }
      ],
      "source": [
        "import torch\n",
        "\n",
        "def predict_multiple(model, tokenizer, sentences, max_len, device):\n",
        "    model = model.eval() \n",
        "    predictions = []\n",
        "    \n",
        "    \n",
        "    for sentence in sentences:\n",
        "        \n",
        "        inputs = tokenizer.encode_plus(\n",
        "            sentence,  \n",
        "            add_special_tokens=True,  \n",
        "            max_length=max_len,  \n",
        "            truncation=True,\n",
        "            padding='max_length',  \n",
        "            return_attention_mask=True,  \n",
        "            return_token_type_ids=False,  \n",
        "            return_tensors='pt'  \n",
        "        )\n",
        "\n",
        "        \n",
        "        input_ids = inputs['input_ids'].to(device)\n",
        "        attention_mask = inputs['attention_mask'].to(device)\n",
        "        \n",
        "        \n",
        "        with torch.no_grad():\n",
        "            output = model(input_ids=input_ids, attention_mask=attention_mask)\n",
        "        \n",
        "        \n",
        "        _, prediction = torch.max(output, dim=1)\n",
        "\n",
        "        \n",
        "        class_names = ['negative', 'positive']  \n",
        "        predicted_class = class_names[prediction.item()]\n",
        "        \n",
        "        \n",
        "        predictions.append((sentence, predicted_class))\n",
        "    \n",
        "    return predictions\n",
        "\n",
        "\n",
        "while True:\n",
        "    print(\"Enter a comment (or type 'exit' to quit):\")\n",
        "    user_input = input()\n",
        "    \n",
        "    if user_input.lower() == 'exit':\n",
        "        break\n",
        "    \n",
        "    # Predict sentiment for the input comment\n",
        "    predictions = predict_multiple(model, tokenizer, [user_input], MAX_LEN, device)\n",
        "    \n",
        "    # Print the prediction result\n",
        "    for comment, sentiment in predictions:\n",
        "        print(f\"Comment: {comment}\\nPredicted Sentiment: {sentiment}\\n\")\n"
      ]
    },
    {
      "cell_type": "code",
      "execution_count": 63,
      "metadata": {
        "gather": {
          "logged": 1738682355508
        }
      },
      "outputs": [
        {
          "name": "stdout",
          "output_type": "stream",
          "text": [
            "Model saved at: sentiment_model_full.pth\n",
            "Tokenizer saved at: current directory (vocab files inside)\n"
          ]
        }
      ],
      "source": [
        "import torch\n",
        "\n",
        "# Save the entire model\n",
        "torch.save(model, \"BERT_NEW.pth\")\n",
        "\n",
        "# Save the tokenizer\n",
        "tokenizer.save_pretrained(\"BERT_TOKENIZER_NEW\")\n",
        "\n",
        "# Print locations\n",
        "print(f\"Model saved at: sentiment_model_full.pth\")\n",
        "print(f\"Tokenizer saved at: current directory (vocab files inside)\")"
      ]
    }
  ],
  "metadata": {
    "kernel_info": {
      "name": "python38-azureml"
    },
    "kernelspec": {
      "display_name": "Python 3.8 - AzureML",
      "language": "python",
      "name": "python38-azureml"
    },
    "language_info": {
      "codemirror_mode": {
        "name": "ipython",
        "version": 3
      },
      "file_extension": ".py",
      "mimetype": "text/x-python",
      "name": "python",
      "nbconvert_exporter": "python",
      "pygments_lexer": "ipython3",
      "version": "3.10.11"
    },
    "microsoft": {
      "host": {
        "AzureML": {
          "notebookHasBeenCompleted": true
        }
      },
      "ms_spell_check": {
        "ms_spell_check_language": "en"
      }
    },
    "nteract": {
      "version": "nteract-front-end@1.0.0"
    }
  },
  "nbformat": 4,
  "nbformat_minor": 2
}
